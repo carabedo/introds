{
 "cells": [
  {
   "cell_type": "code",
   "execution_count": 9,
   "id": "6860d63d",
   "metadata": {},
   "outputs": [],
   "source": [
    "import numpy as np\n",
    "import matplotlib.pyplot as plt\n",
    "\n",
    "x=np.linspace(-10,10,30)\n"
   ]
  },
  {
   "cell_type": "code",
   "execution_count": 26,
   "id": "8a10d8d0",
   "metadata": {},
   "outputs": [],
   "source": [
    "x=10*(np.random.rand(30)-0.5)\n",
    "\n"
   ]
  },
  {
   "cell_type": "code",
   "execution_count": 27,
   "id": "b91a90fe",
   "metadata": {},
   "outputs": [],
   "source": [
    "\n",
    "y=(x+5*np.random.rand(x.shape[0]))*3"
   ]
  },
  {
   "cell_type": "code",
   "execution_count": 28,
   "id": "26002a25",
   "metadata": {
    "scrolled": true
   },
   "outputs": [
    {
     "data": {
      "text/plain": [
       "[<matplotlib.lines.Line2D at 0x11fe7d070>]"
      ]
     },
     "execution_count": 28,
     "metadata": {},
     "output_type": "execute_result"
    },
    {
     "data": {
      "image/png": "[encoded data removed]",
      "text/plain": [
       "<Figure size 432x288 with 1 Axes>"
      ]
     },
     "metadata": {
      "needs_background": "light"
     },
     "output_type": "display_data"
    }
   ],
   "source": [
    "plt.plot(x,y,'x')"
   ]
  },
  {
   "cell_type": "code",
   "execution_count": null,
   "id": "fa20b58c",
   "metadata": {},
   "outputs": [],
   "source": [
    "import sklearn.datasets as dt"
   ]
  },
  {
   "cell_type": "code",
   "execution_count": 55,
   "id": "3d8259c5",
   "metadata": {},
   "outputs": [
    {
     "data": {
      "text/plain": [
       "[<matplotlib.lines.Line2D at 0x149943af0>,\n",
       " <matplotlib.lines.Line2D at 0x149943bb0>]"
      ]
     },
     "execution_count": 55,
     "metadata": {},
     "output_type": "execute_result"
    },
    {
     "data": {
      "image/png": "[encoded data removed]",
      "text/plain": [
       "<Figure size 432x288 with 1 Axes>"
      ]
     },
     "metadata": {
      "needs_background": "light"
     },
     "output_type": "display_data"
    }
   ],
   "source": [
    "x,y = dt.make_regression(n_samples=50,\n",
    "                             n_features=2\n",
    "                         ,\n",
    "                             noise=10) \n",
    "\n",
    "plt.plot(x,y,'x')"
   ]
  },
  {
   "cell_type": "markdown",
   "id": "f3c5e490",
   "metadata": {},
   "source": [
    "f(x)"
   ]
  },
  {
   "cell_type": "markdown",
   "id": "a493b16c",
   "metadata": {},
   "source": [
    "f'(x)"
   ]
  }
 ],
 "metadata": {
  "kernelspec": {
   "display_name": "Python 3 (ipykernel)",
   "language": "python",
   "name": "python3"
  },
  "language_info": {
   "codemirror_mode": {
    "name": "ipython",
    "version": 3
   },
   "file_extension": ".py",
   "mimetype": "text/x-python",
   "name": "python",
   "nbconvert_exporter": "python",
   "pygments_lexer": "ipython3",
   "version": "3.9.6"
  }
 },
 "nbformat": 4,
 "nbformat_minor": 5
}
